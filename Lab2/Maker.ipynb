{
 "cells": [
  {
   "cell_type": "code",
   "execution_count": 3,
   "metadata": {},
   "outputs": [],
   "source": [
    "import tensorflow as tf \n",
    "import pandas as pd\n",
    "import matplotlib.pyplot as plt \n",
    "import yfinance as yf \n"
   ]
  },
  {
   "cell_type": "code",
   "execution_count": 4,
   "metadata": {},
   "outputs": [
    {
     "name": "stdout",
     "output_type": "stream",
     "text": [
      "[*********************100%***********************]  1 of 1 completed\n"
     ]
    }
   ],
   "source": [
    "maker = yf.download(\"MKR-USD\");"
   ]
  },
  {
   "cell_type": "code",
   "execution_count": 7,
   "metadata": {},
   "outputs": [
    {
     "data": {
      "text/html": [
       "<div>\n",
       "<style scoped>\n",
       "    .dataframe tbody tr th:only-of-type {\n",
       "        vertical-align: middle;\n",
       "    }\n",
       "\n",
       "    .dataframe tbody tr th {\n",
       "        vertical-align: top;\n",
       "    }\n",
       "\n",
       "    .dataframe thead th {\n",
       "        text-align: right;\n",
       "    }\n",
       "</style>\n",
       "<table border=\"1\" class=\"dataframe\">\n",
       "  <thead>\n",
       "    <tr style=\"text-align: right;\">\n",
       "      <th></th>\n",
       "      <th>Open</th>\n",
       "      <th>High</th>\n",
       "      <th>Low</th>\n",
       "      <th>Close</th>\n",
       "      <th>Adj Close</th>\n",
       "      <th>Volume</th>\n",
       "    </tr>\n",
       "    <tr>\n",
       "      <th>Date</th>\n",
       "      <th></th>\n",
       "      <th></th>\n",
       "      <th></th>\n",
       "      <th></th>\n",
       "      <th></th>\n",
       "      <th></th>\n",
       "    </tr>\n",
       "  </thead>\n",
       "  <tbody>\n",
       "    <tr>\n",
       "      <th>2017-11-20</th>\n",
       "      <td>252.481995</td>\n",
       "      <td>278.230988</td>\n",
       "      <td>252.401993</td>\n",
       "      <td>272.449005</td>\n",
       "      <td>272.449005</td>\n",
       "      <td>259174</td>\n",
       "    </tr>\n",
       "    <tr>\n",
       "      <th>2017-11-21</th>\n",
       "      <td>272.019989</td>\n",
       "      <td>288.925995</td>\n",
       "      <td>260.019012</td>\n",
       "      <td>279.920013</td>\n",
       "      <td>279.920013</td>\n",
       "      <td>9649</td>\n",
       "    </tr>\n",
       "    <tr>\n",
       "      <th>2017-11-22</th>\n",
       "      <td>280.277008</td>\n",
       "      <td>400.648987</td>\n",
       "      <td>280.050995</td>\n",
       "      <td>326.191986</td>\n",
       "      <td>326.191986</td>\n",
       "      <td>14577</td>\n",
       "    </tr>\n",
       "    <tr>\n",
       "      <th>2017-11-23</th>\n",
       "      <td>326.941986</td>\n",
       "      <td>359.498993</td>\n",
       "      <td>320.864990</td>\n",
       "      <td>347.436005</td>\n",
       "      <td>347.436005</td>\n",
       "      <td>1187</td>\n",
       "    </tr>\n",
       "    <tr>\n",
       "      <th>2017-11-24</th>\n",
       "      <td>345.696991</td>\n",
       "      <td>408.135010</td>\n",
       "      <td>339.252991</td>\n",
       "      <td>401.825012</td>\n",
       "      <td>401.825012</td>\n",
       "      <td>166167</td>\n",
       "    </tr>\n",
       "    <tr>\n",
       "      <th>...</th>\n",
       "      <td>...</td>\n",
       "      <td>...</td>\n",
       "      <td>...</td>\n",
       "      <td>...</td>\n",
       "      <td>...</td>\n",
       "      <td>...</td>\n",
       "    </tr>\n",
       "    <tr>\n",
       "      <th>2022-07-14</th>\n",
       "      <td>853.501099</td>\n",
       "      <td>896.888306</td>\n",
       "      <td>822.473755</td>\n",
       "      <td>891.121704</td>\n",
       "      <td>891.121704</td>\n",
       "      <td>133367290</td>\n",
       "    </tr>\n",
       "    <tr>\n",
       "      <th>2022-07-15</th>\n",
       "      <td>891.200562</td>\n",
       "      <td>936.070251</td>\n",
       "      <td>883.084290</td>\n",
       "      <td>912.608704</td>\n",
       "      <td>912.608704</td>\n",
       "      <td>122190091</td>\n",
       "    </tr>\n",
       "    <tr>\n",
       "      <th>2022-07-16</th>\n",
       "      <td>912.597656</td>\n",
       "      <td>971.796692</td>\n",
       "      <td>890.447144</td>\n",
       "      <td>960.008972</td>\n",
       "      <td>960.008972</td>\n",
       "      <td>117321959</td>\n",
       "    </tr>\n",
       "    <tr>\n",
       "      <th>2022-07-17</th>\n",
       "      <td>959.945923</td>\n",
       "      <td>965.648987</td>\n",
       "      <td>933.089905</td>\n",
       "      <td>933.089905</td>\n",
       "      <td>933.089905</td>\n",
       "      <td>140093338</td>\n",
       "    </tr>\n",
       "    <tr>\n",
       "      <th>2022-07-18</th>\n",
       "      <td>935.631836</td>\n",
       "      <td>1004.911804</td>\n",
       "      <td>935.631836</td>\n",
       "      <td>1004.911804</td>\n",
       "      <td>1004.911804</td>\n",
       "      <td>141785168</td>\n",
       "    </tr>\n",
       "  </tbody>\n",
       "</table>\n",
       "<p>1702 rows × 6 columns</p>\n",
       "</div>"
      ],
      "text/plain": [
       "                  Open         High         Low        Close    Adj Close  \\\n",
       "Date                                                                        \n",
       "2017-11-20  252.481995   278.230988  252.401993   272.449005   272.449005   \n",
       "2017-11-21  272.019989   288.925995  260.019012   279.920013   279.920013   \n",
       "2017-11-22  280.277008   400.648987  280.050995   326.191986   326.191986   \n",
       "2017-11-23  326.941986   359.498993  320.864990   347.436005   347.436005   \n",
       "2017-11-24  345.696991   408.135010  339.252991   401.825012   401.825012   \n",
       "...                ...          ...         ...          ...          ...   \n",
       "2022-07-14  853.501099   896.888306  822.473755   891.121704   891.121704   \n",
       "2022-07-15  891.200562   936.070251  883.084290   912.608704   912.608704   \n",
       "2022-07-16  912.597656   971.796692  890.447144   960.008972   960.008972   \n",
       "2022-07-17  959.945923   965.648987  933.089905   933.089905   933.089905   \n",
       "2022-07-18  935.631836  1004.911804  935.631836  1004.911804  1004.911804   \n",
       "\n",
       "               Volume  \n",
       "Date                   \n",
       "2017-11-20     259174  \n",
       "2017-11-21       9649  \n",
       "2017-11-22      14577  \n",
       "2017-11-23       1187  \n",
       "2017-11-24     166167  \n",
       "...               ...  \n",
       "2022-07-14  133367290  \n",
       "2022-07-15  122190091  \n",
       "2022-07-16  117321959  \n",
       "2022-07-17  140093338  \n",
       "2022-07-18  141785168  \n",
       "\n",
       "[1702 rows x 6 columns]"
      ]
     },
     "execution_count": 7,
     "metadata": {},
     "output_type": "execute_result"
    }
   ],
   "source": [
    "maker"
   ]
  },
  {
   "cell_type": "code",
   "execution_count": 9,
   "metadata": {},
   "outputs": [
    {
     "ename": "AttributeError",
     "evalue": "'Series' object has no attribute 'to_Frame'",
     "output_type": "error",
     "traceback": [
      "\u001b[0;31m---------------------------------------------------------------------------\u001b[0m",
      "\u001b[0;31mAttributeError\u001b[0m                            Traceback (most recent call last)",
      "\u001b[1;32m/Users/janadhi/Java/COMP162/Lab2/Maker.ipynb Cell 4\u001b[0m in \u001b[0;36m<cell line: 1>\u001b[0;34m()\u001b[0m\n\u001b[0;32m----> <a href='vscode-notebook-cell:/Users/janadhi/Java/COMP162/Lab2/Maker.ipynb#ch0000006?line=0'>1</a>\u001b[0m maker[\u001b[39m\"\u001b[39;49m\u001b[39mClose\u001b[39;49m\u001b[39m\"\u001b[39;49m]\u001b[39m.\u001b[39;49mto_Frame\n",
      "File \u001b[0;32m~/miniforge3/lib/python3.9/site-packages/pandas/core/generic.py:5575\u001b[0m, in \u001b[0;36mNDFrame.__getattr__\u001b[0;34m(self, name)\u001b[0m\n\u001b[1;32m   5568\u001b[0m \u001b[39mif\u001b[39;00m (\n\u001b[1;32m   5569\u001b[0m     name \u001b[39mnot\u001b[39;00m \u001b[39min\u001b[39;00m \u001b[39mself\u001b[39m\u001b[39m.\u001b[39m_internal_names_set\n\u001b[1;32m   5570\u001b[0m     \u001b[39mand\u001b[39;00m name \u001b[39mnot\u001b[39;00m \u001b[39min\u001b[39;00m \u001b[39mself\u001b[39m\u001b[39m.\u001b[39m_metadata\n\u001b[1;32m   5571\u001b[0m     \u001b[39mand\u001b[39;00m name \u001b[39mnot\u001b[39;00m \u001b[39min\u001b[39;00m \u001b[39mself\u001b[39m\u001b[39m.\u001b[39m_accessors\n\u001b[1;32m   5572\u001b[0m     \u001b[39mand\u001b[39;00m \u001b[39mself\u001b[39m\u001b[39m.\u001b[39m_info_axis\u001b[39m.\u001b[39m_can_hold_identifiers_and_holds_name(name)\n\u001b[1;32m   5573\u001b[0m ):\n\u001b[1;32m   5574\u001b[0m     \u001b[39mreturn\u001b[39;00m \u001b[39mself\u001b[39m[name]\n\u001b[0;32m-> 5575\u001b[0m \u001b[39mreturn\u001b[39;00m \u001b[39mobject\u001b[39;49m\u001b[39m.\u001b[39;49m\u001b[39m__getattribute__\u001b[39;49m(\u001b[39mself\u001b[39;49m, name)\n",
      "\u001b[0;31mAttributeError\u001b[0m: 'Series' object has no attribute 'to_Frame'"
     ]
    }
   ],
   "source": [
    "maker[\"Close\"]"
   ]
  }
 ],
 "metadata": {
  "kernelspec": {
   "display_name": "Python 3.9.13 ('base')",
   "language": "python",
   "name": "python3"
  },
  "language_info": {
   "codemirror_mode": {
    "name": "ipython",
    "version": 3
   },
   "file_extension": ".py",
   "mimetype": "text/x-python",
   "name": "python",
   "nbconvert_exporter": "python",
   "pygments_lexer": "ipython3",
   "version": "3.9.13"
  },
  "orig_nbformat": 4,
  "vscode": {
   "interpreter": {
    "hash": "c1ed3d0d51d0d9fc84e9feca67a2c96385eab8afcf16092b40709d9c6021dc22"
   }
  }
 },
 "nbformat": 4,
 "nbformat_minor": 2
}
